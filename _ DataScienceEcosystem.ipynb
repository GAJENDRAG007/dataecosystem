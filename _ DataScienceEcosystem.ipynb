{
 "cells": [
  {
   "cell_type": "markdown",
   "id": "a8a323c7-ed5d-4be5-b256-864ff7bd8c25",
   "metadata": {},
   "source": [
    "<h1> Data Science Tools and Ecosystem </h1>"
   ]
  },
  {
   "cell_type": "markdown",
   "id": "9a37c0ff-ba5d-484d-9be9-5acf74665f23",
   "metadata": {},
   "source": [
    "In this notebook, Data Science Tools and Ecosystem are summarized."
   ]
  },
  {
   "cell_type": "markdown",
   "id": "acfde163-5cea-4585-9a0d-6cc0c5715abf",
   "metadata": {},
   "source": [
    "Some of the popular languages that Data Scientists use are:\n",
    "<ol>\n",
    "  <li>PYTHON</li>\n",
    "  <li>R</li>\n",
    "  <li>SQL</li>\n",
    "</ol>"
   ]
  },
  {
   "cell_type": "markdown",
   "id": "5a2157a7-9536-4da7-8c7c-7fe158af4dd4",
   "metadata": {},
   "source": [
    "* objective\n",
    "<ul>\n",
    "  <li>julia</li>\n",
    "  <li>scala</li>\n",
    "  <li>swift</li>\n",
    "</ul>"
   ]
  },
  {
   "cell_type": "markdown",
   "id": "672db5b2-81db-43cb-9b5d-2e61feb138aa",
   "metadata": {},
   "source": [
    "some of the commonly used libraries used by Data Scientists include:\n",
    "<ol>\n",
    "  <li>PANDAS</li>\n",
    "  <li>NUMPY</li>\n",
    "  <li>SCIPY</li>\n",
    "  <li>PYTORCH</li>\n",
    "  <li>MATPLOTLIB</li>\n",
    "</ol>"
   ]
  },
  {
   "cell_type": "markdown",
   "id": "a8b7190b-c28b-48e7-a177-1e2982fc617f",
   "metadata": {},
   "source": [
    "<table>\n",
    "    <tr>\n",
    "      <th>Data Science Tools</th>\n",
    "    </tr>\n",
    "    <tr>\n",
    "      <td>jupyter</td>\n",
    "    </tr>\n",
    "    <tr>\n",
    "      <td>jupyterlab</td>\n",
    "    </tr>\n",
    "    <tr>\n",
    "      <td>Rstudio</td>\n",
    "    </tr>\n",
    "    <tr>\n",
    "      <td>Spyder</td>\n",
    "    </tr>"
   ]
  },
  {
   "cell_type": "markdown",
   "id": "2339e871-289b-473e-8153-1c50a9ede428",
   "metadata": {},
   "source": [
    "<h3> Below are a few examples of evaluating arithmetic expressions in Python.</h3>"
   ]
  },
  {
   "cell_type": "code",
   "execution_count": 1,
   "id": "c12bd6b4-8c5e-40d6-8687-ea5822a7004c",
   "metadata": {},
   "outputs": [],
   "source": [
    "# This a simple arithmetic expression to mutiply then add integers"
   ]
  },
  {
   "cell_type": "code",
   "execution_count": 2,
   "id": "008e5bb0-281c-4066-929a-6ee2346a231e",
   "metadata": {},
   "outputs": [
    {
     "data": {
      "text/plain": [
       "17"
      ]
     },
     "execution_count": 2,
     "metadata": {},
     "output_type": "execute_result"
    }
   ],
   "source": [
    "(3*4)+5"
   ]
  },
  {
   "cell_type": "code",
   "execution_count": 3,
   "id": "14e3b97b-90f9-4767-a3d8-5eba91e88585",
   "metadata": {},
   "outputs": [],
   "source": [
    "# This will convert 200 minutes to hours by diving by 60."
   ]
  },
  {
   "cell_type": "code",
   "execution_count": 4,
   "id": "4d10638d-24d7-48e4-9e78-65e346f74e39",
   "metadata": {},
   "outputs": [
    {
     "name": "stdout",
     "output_type": "stream",
     "text": [
      "3.3333333333333335\n"
     ]
    }
   ],
   "source": [
    "MIN=200\n",
    "HR=200/60\n",
    "print(HR)"
   ]
  },
  {
   "cell_type": "markdown",
   "id": "32d1a9b3-55c6-4def-8cc1-1605e181c757",
   "metadata": {},
   "source": [
    "<h2>Author</h2><br> Gajendra singh tomar<br>"
   ]
  },
  {
   "cell_type": "code",
   "execution_count": null,
   "id": "c7a19211-bf5b-4370-994d-a8443765f933",
   "metadata": {},
   "outputs": [],
   "source": []
  }
 ],
 "metadata": {
  "kernelspec": {
   "display_name": "Python",
   "language": "python",
   "name": "conda-env-python-py"
  },
  "language_info": {
   "codemirror_mode": {
    "name": "ipython",
    "version": 3
   },
   "file_extension": ".py",
   "mimetype": "text/x-python",
   "name": "python",
   "nbconvert_exporter": "python",
   "pygments_lexer": "ipython3",
   "version": "3.7.12"
  }
 },
 "nbformat": 4,
 "nbformat_minor": 5
}
